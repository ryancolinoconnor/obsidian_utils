{
 "cells": [
  {
   "cell_type": "code",
   "execution_count": 68,
   "metadata": {},
   "outputs": [],
   "source": [
    "import glob\n",
    "from datetime import datetime as dt\n",
    "__obsidian_path__ =\"/mnt/c/Users/ryano/Google Drive/Obsidian/Big_vault/Ryan's Brain/\"\n",
    "def make_obs_link(name):\n",
    "    return \"\"\"[[{name}]]\"\"\".format(name=name)\n",
    "def parse_file(filename):\n",
    "    return make_obs_link(filename.replace(__obsidian_path__,'').replace('.md',''))\n",
    "files = list(filter(lambda x:x!=make_obs_link(dt.now().strftime('%Y%m%d')),map(\n",
    "    parse_file,glob.glob(__obsidian_path__+ \"*\" + dt.now().strftime('%Y%m%d') + \"*\"))))\n",
    "daily_file = __obsidian_path__ + '/'+ dt.now().strftime('%Y%m%d') +'.md'\n",
    "with open(daily_file,'r') as f:\n",
    "    existing = (f.read())\n",
    "to_write = filter(lambda x:x not in existing,files)\n",
    "with open(daily_file,'a') as f:\n",
    "    for filename in to_write:\n",
    "        f.write(filename+ '\\n')"
   ]
  }
 ],
 "metadata": {
  "kernelspec": {
   "display_name": "Python 3",
   "language": "python",
   "name": "python3"
  },
  "language_info": {
   "codemirror_mode": {
    "name": "ipython",
    "version": 3
   },
   "file_extension": ".py",
   "mimetype": "text/x-python",
   "name": "python",
   "nbconvert_exporter": "python",
   "pygments_lexer": "ipython3",
   "version": "3.8.2"
  }
 },
 "nbformat": 4,
 "nbformat_minor": 4
}

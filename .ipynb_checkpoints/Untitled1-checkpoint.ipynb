{
 "cells": [
  {
   "cell_type": "code",
   "execution_count": 83,
   "metadata": {},
   "outputs": [],
   "source": [
    "aggregators = ['Daily Journal.md','Work Journal.md','Innovations.md','Quote of the day.md']\n",
    "__base_path__ = \"\"\"/mnt/c/Users/ryano/Google Drive/Obsidian/Big_vault/Ryan's Brain\"\"\""
   ]
  },
  {
   "cell_type": "code",
   "execution_count": 84,
   "metadata": {},
   "outputs": [],
   "source": [
    "import glob\n",
    "import os"
   ]
  },
  {
   "cell_type": "code",
   "execution_count": 85,
   "metadata": {},
   "outputs": [
    {
     "name": "stdout",
     "output_type": "stream",
     "text": [
      "![[20200815]]![[Daily Journal 202008152039]]![[Daily Journal 202008171350]]![[Daily Journal 202008191104]]![[I don't even know 202008211445]]![[Daily Journal 202008240722]]![[Accept me forest 202011041023]]![[Daily Journal 202011052054]]![[Daily Journal 202011062047]]![[Notes 202011072121]]![[Daily Journal 202011080903]]![[Be the ocean 202011082104]]![[Daily Journal 202011091825]]![[Daily Journal 202011111909]]\n",
      "![[Work Dump 202009241911]]![[Work Journal 202011111910]]\n",
      "![[Obsidian Tools]]![[Ideas Generated 202007211920]]\n",
      "\n"
     ]
    }
   ],
   "source": [
    "def get_name(fname):\n",
    "    return \"[[\"+fname.split(os.path.sep)[-1].replace('.md','')+\"]]\"\n",
    "def get_dt(s):\n",
    "    match = re.search('\\d{4}\\d{2}\\d{2}\\d{2}\\d{2}', s)\n",
    "    if match is None:\n",
    "        match = re.search('\\d{4}\\d{2}\\d{2}', s)\n",
    "    if match is None:\n",
    "        return ''\n",
    "    return match.group()\n",
    "\n",
    "\n",
    "files = glob.glob(os.path.sep.join([__base_path__,'*.md']))\n",
    "for aggregator in aggregators:\n",
    "    fname = os.path.sep.join([__base_path__,aggregator])\n",
    "    text_1 = open(fname,'r')#.read()\n",
    "    text = text_1.read()\n",
    "    print(text)\n",
    "    text_1.close()\n",
    "    match = lambda x:get_name(x) not in text and x!=fname and get_name(fname) in open(x,'r').read()\n",
    "    to_process = list(filter(match,files))\n",
    "    stream = open(fname,'a')\n",
    "    for temp  in sorted(map(get_name,to_process),key=get_dt):\n",
    "        \n",
    "        stream.write('!'+temp)\n",
    "    stream.close()"
   ]
  },
  {
   "cell_type": "code",
   "execution_count": 86,
   "metadata": {},
   "outputs": [
    {
     "data": {
      "text/plain": [
       "[\"/mnt/c/Users/ryano/Google Drive/Obsidian/Big_vault/Ryan's Brain/Quote of the day 202011111921.md\"]"
      ]
     },
     "execution_count": 86,
     "metadata": {},
     "output_type": "execute_result"
    }
   ],
   "source": [
    "to_process"
   ]
  },
  {
   "cell_type": "code",
   "execution_count": 59,
   "metadata": {},
   "outputs": [
    {
     "data": {
      "text/plain": [
       "'Work Journal.md'"
      ]
     },
     "execution_count": 59,
     "metadata": {},
     "output_type": "execute_result"
    }
   ],
   "source": [
    "aggregator"
   ]
  },
  {
   "cell_type": "code",
   "execution_count": 37,
   "metadata": {},
   "outputs": [],
   "source": []
  },
  {
   "cell_type": "code",
   "execution_count": 39,
   "metadata": {},
   "outputs": [
    {
     "data": {
      "text/plain": [
       "[\"/mnt/c/Users/ryano/Google Drive/Obsidian/Big_vault/Ryan's Brain/20200815.md\",\n",
       " \"/mnt/c/Users/ryano/Google Drive/Obsidian/Big_vault/Ryan's Brain/Daily Journal 202008152039.md\",\n",
       " \"/mnt/c/Users/ryano/Google Drive/Obsidian/Big_vault/Ryan's Brain/Daily Journal 202008171350.md\",\n",
       " \"/mnt/c/Users/ryano/Google Drive/Obsidian/Big_vault/Ryan's Brain/Daily Journal 202008191104.md\",\n",
       " \"/mnt/c/Users/ryano/Google Drive/Obsidian/Big_vault/Ryan's Brain/I don't even know 202008211445.md\",\n",
       " \"/mnt/c/Users/ryano/Google Drive/Obsidian/Big_vault/Ryan's Brain/Daily Journal 202008240722.md\",\n",
       " \"/mnt/c/Users/ryano/Google Drive/Obsidian/Big_vault/Ryan's Brain/Accept me forest 202011041023.md\",\n",
       " \"/mnt/c/Users/ryano/Google Drive/Obsidian/Big_vault/Ryan's Brain/Daily Journal 202011052054.md\",\n",
       " \"/mnt/c/Users/ryano/Google Drive/Obsidian/Big_vault/Ryan's Brain/Daily Journal 202011062047.md\",\n",
       " \"/mnt/c/Users/ryano/Google Drive/Obsidian/Big_vault/Ryan's Brain/Notes 202011072121.md\",\n",
       " \"/mnt/c/Users/ryano/Google Drive/Obsidian/Big_vault/Ryan's Brain/Daily Journal 202011080903.md\",\n",
       " \"/mnt/c/Users/ryano/Google Drive/Obsidian/Big_vault/Ryan's Brain/Be the ocean 202011082104.md\",\n",
       " \"/mnt/c/Users/ryano/Google Drive/Obsidian/Big_vault/Ryan's Brain/Daily Journal 202011091825.md\"]"
      ]
     },
     "execution_count": 39,
     "metadata": {},
     "output_type": "execute_result"
    }
   ],
   "source": []
  },
  {
   "cell_type": "code",
   "execution_count": 36,
   "metadata": {},
   "outputs": [
    {
     "data": {
      "text/plain": [
       "'20200815'"
      ]
     },
     "execution_count": 36,
     "metadata": {},
     "output_type": "execute_result"
    }
   ],
   "source": [
    "s=to_process[0]\n",
    "\n",
    "#date = datetime.datetime.strptime(match.group(), '%Y-%m-%d').date()"
   ]
  },
  {
   "cell_type": "code",
   "execution_count": 32,
   "metadata": {},
   "outputs": [
    {
     "data": {
      "text/plain": [
       "'2020110410'"
      ]
     },
     "execution_count": 32,
     "metadata": {},
     "output_type": "execute_result"
    }
   ],
   "source": [
    "match.group()"
   ]
  },
  {
   "cell_type": "code",
   "execution_count": 30,
   "metadata": {},
   "outputs": [
    {
     "data": {
      "text/plain": [
       "\"/mnt/c/Users/ryano/Google Drive/Obsidian/Big_vault/Ryan's Brain/Accept me forest 202011041023.md\""
      ]
     },
     "execution_count": 30,
     "metadata": {},
     "output_type": "execute_result"
    }
   ],
   "source": [
    "to_process[1]"
   ]
  },
  {
   "cell_type": "code",
   "execution_count": 23,
   "metadata": {},
   "outputs": [],
   "source": [
    "match"
   ]
  },
  {
   "cell_type": "code",
   "execution_count": 20,
   "metadata": {},
   "outputs": [],
   "source": [
    "import datetime\n",
    "import re"
   ]
  },
  {
   "cell_type": "code",
   "execution_count": null,
   "metadata": {},
   "outputs": [],
   "source": []
  }
 ],
 "metadata": {
  "kernelspec": {
   "display_name": "Python 3",
   "language": "python",
   "name": "python3"
  },
  "language_info": {
   "codemirror_mode": {
    "name": "ipython",
    "version": 3
   },
   "file_extension": ".py",
   "mimetype": "text/x-python",
   "name": "python",
   "nbconvert_exporter": "python",
   "pygments_lexer": "ipython3",
   "version": "3.8.2"
  }
 },
 "nbformat": 4,
 "nbformat_minor": 4
}

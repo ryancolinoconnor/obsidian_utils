{
 "cells": [
  {
   "cell_type": "code",
   "execution_count": 2,
   "metadata": {},
   "outputs": [],
   "source": [
    "import glob\n",
    "from datetime import datetime as dt\n",
    "import pandas as pd\n",
    "\n",
    "__obsidian_path__ =\"/mnt/c/Users/ryano/Google Drive/Obsidian/Big_vault/Ryan's Brain/\"\n",
    "def make_obs_link(name):\n",
    "    return \"\"\"[[{name}]]\"\"\".format(name=name)\n",
    "def parse_file(filename):\n",
    "    return make_obs_link(filename.replace(__obsidian_path__,'').replace('.md',''))\n",
    "\n",
    "for date in pd.date_range(dt.now().date() - pd.Timedelta(days=7),'today'):\n",
    "    try:\n",
    "        files = list(filter(lambda x:x!=make_obs_link(date.strftime('%Y%m%d')),map(\n",
    "        parse_file,glob.glob(__obsidian_path__+ \"*\" + date.strftime('%Y%m%d') + \"*\"))))\n",
    "\n",
    "        daily_file = __obsidian_path__ + '/'+ date.strftime('%Y%m%d') +'.md'\n",
    "        with open(daily_file,'r') as f:\n",
    "            existing = (f.read())\n",
    "        to_write = filter(lambda x:x not in existing,files)\n",
    "        with open(daily_file,'a') as f:\n",
    "            for filename in to_write:\n",
    "                f.write(filename+ '\\n')\n",
    "    except:\n",
    "        pass"
   ]
  },
  {
   "cell_type": "code",
   "execution_count": 2,
   "metadata": {},
   "outputs": [],
   "source": []
  },
  {
   "cell_type": "code",
   "execution_count": 7,
   "metadata": {},
   "outputs": [
    {
     "data": {
      "text/plain": [
       "DatetimeIndex(['2020-10-04', '2020-10-05', '2020-10-06', '2020-10-07',\n",
       "               '2020-10-08', '2020-10-09', '2020-10-10', '2020-10-11'],\n",
       "              dtype='datetime64[ns]', freq='D')"
      ]
     },
     "execution_count": 7,
     "metadata": {},
     "output_type": "execute_result"
    }
   ],
   "source": []
  },
  {
   "cell_type": "code",
   "execution_count": 3,
   "metadata": {},
   "outputs": [],
   "source": [
    "from datetime import datetime as dt"
   ]
  },
  {
   "cell_type": "code",
   "execution_count": 6,
   "metadata": {},
   "outputs": [
    {
     "data": {
      "text/plain": [
       "datetime.date(2020, 10, 4)"
      ]
     },
     "execution_count": 6,
     "metadata": {},
     "output_type": "execute_result"
    }
   ],
   "source": [
    "\n"
   ]
  },
  {
   "cell_type": "code",
   "execution_count": null,
   "metadata": {},
   "outputs": [],
   "source": []
  }
 ],
 "metadata": {
  "kernelspec": {
   "display_name": "Python 3",
   "language": "python",
   "name": "python3"
  },
  "language_info": {
   "codemirror_mode": {
    "name": "ipython",
    "version": 3
   },
   "file_extension": ".py",
   "mimetype": "text/x-python",
   "name": "python",
   "nbconvert_exporter": "python",
   "pygments_lexer": "ipython3",
   "version": "3.8.2"
  }
 },
 "nbformat": 4,
 "nbformat_minor": 4
}
